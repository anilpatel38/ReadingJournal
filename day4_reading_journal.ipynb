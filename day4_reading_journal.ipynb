{
 "cells": [
  {
   "cell_type": "markdown",
   "metadata": {},
   "source": [
    "# Day 4 Reading Journal\n",
    "\n",
    "This journal includes several required exercises, but it is meant to encourage active reading more generally.  You should use the journal to take detailed notes, catalog questions, and explore the content from Think Python deeply.\n",
    "\n",
    "Reading: Think Python Chapter 10\n",
    "\n",
    "**Due: Monday, January 30 at 12 noon**\n",
    "\n"
   ]
  },
  {
   "cell_type": "markdown",
   "metadata": {},
   "source": [
    "## [Chapter 10](http://www.greenteapress.com/thinkpython2/html/thinkpython2011.html)\n",
    "\n",
    "You may want to review [state diagrams in Chapter 2](http://greenteapress.com/thinkpython2/html/thinkpython2003.html). [Python Tutor](http://pythontutor.com/) is also helpful for visualizing the state of your program.\n",
    "\n"
   ]
  },
  {
   "cell_type": "markdown",
   "metadata": {},
   "source": [
    "### Exercise 10.3 \n",
    "Write a function called `middle` that takes a list and returns a new list that contains all but the first and last elements. So `middle([1,2,3,4])` should return `[2,3]`."
   ]
  },
  {
   "cell_type": "code",
   "execution_count": 16,
   "metadata": {
    "collapsed": false
   },
   "outputs": [
    {
     "data": {
      "text/plain": [
       "[3, 2]"
      ]
     },
     "execution_count": 16,
     "metadata": {},
     "output_type": "execute_result"
    }
   ],
   "source": [
    "def middle(list):\n",
    "    new_list = list[1:(len(list)-1)]\n",
    "    return new_list\n",
    "\n",
    "middle([1,3,2,3])"
   ]
  },
  {
   "cell_type": "markdown",
   "metadata": {},
   "source": [
    "### Exercise 10.4 \n",
    "Write a function called `chop` that takes a list, modifies it by removing the first and last elements, and returns `None`.\n",
    "\n",
    "What is the difference between `middle` and `chop`? Sketch out the program state or take a look at each in Python Tutor and answer the question in the Markdown cell below."
   ]
  },
  {
   "cell_type": "code",
   "execution_count": 2,
   "metadata": {
    "collapsed": false
   },
   "outputs": [],
   "source": [
    "def chop(list):\n",
    "    list = list[1:(len(list)-1)]\n",
    "    return None\n",
    "\n",
    "chop([1,2,3,2])"
   ]
  },
  {
   "cell_type": "markdown",
   "metadata": {},
   "source": [
    "The main difference I could tell was with how each function manipulates the list components. Middle fully processes the list string and then transfers the correct indices to the new list. Chop directly takes the indices needed for the new list."
   ]
  },
  {
   "cell_type": "markdown",
   "metadata": {},
   "source": [
    "### Exercise 10.6 \n",
    "Two words are anagrams if you can rearrange the letters from one to spell the other. Write a function called `is_anagram` that takes two strings and returns `True` if they are anagrams."
   ]
  },
  {
   "cell_type": "code",
   "execution_count": 23,
   "metadata": {
    "collapsed": false
   },
   "outputs": [
    {
     "data": {
      "text/plain": [
       "True"
      ]
     },
     "execution_count": 23,
     "metadata": {},
     "output_type": "execute_result"
    }
   ],
   "source": [
    "def is_anagram(string1, string2):\n",
    "    list1 = []\n",
    "    list2 = []\n",
    "    \n",
    "    for i in range(0, len(string1)):\n",
    "        letter = string1[i]\n",
    "        list1.append(letter)\n",
    "        \n",
    "    for j in range(0, len(string2)):\n",
    "        letter2 = string2[j]\n",
    "        list2.append(letter2)\n",
    "    \n",
    "    list1.sort()\n",
    "    list2.sort()\n",
    "    \n",
    "    if list1 == list2:\n",
    "        return True\n",
    "    elif list1 != list2:\n",
    "        return False\n",
    "\n",
    "\n",
    "is_anagram(\"racecar\",\"acecarr\")"
   ]
  },
  {
   "cell_type": "code",
   "execution_count": 45,
   "metadata": {
    "collapsed": false
   },
   "outputs": [
    {
     "ename": "SyntaxError",
     "evalue": "invalid syntax (<ipython-input-45-fe99d3125928>, line 2)",
     "output_type": "error",
     "traceback": [
      "\u001b[0;36m  File \u001b[0;32m\"<ipython-input-45-fe99d3125928>\"\u001b[0;36m, line \u001b[0;32m2\u001b[0m\n\u001b[0;31m    The (so-called) Birthday Paradox: <br /><br />\u001b[0m\n\u001b[0m                           ^\u001b[0m\n\u001b[0;31mSyntaxError\u001b[0m\u001b[0;31m:\u001b[0m invalid syntax\n"
     ]
    }
   ],
   "source": [
    "### Exercise 10.8  \n",
    "The (so-called) Birthday Paradox: <br /><br />\n",
    "1\\. Write a function called `has_duplicates` that takes a list and returns `True` if there is any element that appears more than once. It should not modify the original list.\n",
    "\n",
    "2\\. If there are 23 students in your class, what are the chances that two of you have the same birthday? Put your answer in the Markdown cell below. You can estimate this probability by generating random samples of 23 birthdays and checking for matches. Hint: you can generate random birthdays with the randint function from the [random module](https://docs.python.org/2/library/random.html).\n",
    "\n",
    "You can read about this problem at http://en.wikipedia.org/wiki/Birthday_paradox, and you can download Allen's solution from http://greenteapress.com/thinkpython2/code/birthday.py."
   ]
  },
  {
   "cell_type": "code",
   "execution_count": 55,
   "metadata": {
    "collapsed": false
   },
   "outputs": [
    {
     "data": {
      "text/plain": [
       "0.499"
      ]
     },
     "execution_count": 55,
     "metadata": {},
     "output_type": "execute_result"
    }
   ],
   "source": [
    "def has_duplicates(list):\n",
    "    import random\n",
    "    for i in range(0, len(list)):\n",
    "        current_val = list[i]\n",
    "        for j in range(1, len(list)):\n",
    "            if current_val == list[j] and j != i:\n",
    "                return True\n",
    "    return False\n",
    "\n",
    "def make_birthdays(n):\n",
    "    import random\n",
    "    birthdays = []\n",
    "    num_students = n\n",
    "    for i in range(1, num_students):\n",
    "        birthdays.append(random.randint(1,365))\n",
    "    return birthdays\n",
    "\n",
    "def check_matches(rand_birthdays):\n",
    "    import random\n",
    "    check = has_duplicates(rand_birthdays)\n",
    "    if check == True:\n",
    "        return True\n",
    "    return False\n",
    "\n",
    "def run_lots(num_tests, num_students):\n",
    "    import random\n",
    "    count = 0\n",
    "    for i in range(0, num_tests):\n",
    "        birthdays = make_birthdays(num_students)\n",
    "        check_match = check_matches(birthdays)\n",
    "        if check_match == True:\n",
    "            count = count+1\n",
    "    probability = count/num_tests\n",
    "    return probability\n",
    "\n",
    "run_lots(1000,23)\n",
    "        "
   ]
  },
  {
   "cell_type": "code",
   "execution_count": 53,
   "metadata": {
    "collapsed": false
   },
   "outputs": [
    {
     "data": {
      "text/plain": [
       "[360,\n",
       " 278,\n",
       " 113,\n",
       " 155,\n",
       " 27,\n",
       " 299,\n",
       " 123,\n",
       " 339,\n",
       " 334,\n",
       " 22,\n",
       " 234,\n",
       " 327,\n",
       " 30,\n",
       " 97,\n",
       " 266,\n",
       " 253,\n",
       " 5,\n",
       " 22,\n",
       " 141,\n",
       " 43,\n",
       " 238,\n",
       " 188]"
      ]
     },
     "execution_count": 53,
     "metadata": {},
     "output_type": "execute_result"
    }
   ],
   "source": [
    "def make_birthdays(n):\n",
    "    import random\n",
    "    birthdays = []\n",
    "    num_students = n\n",
    "    for i in range(1, num_students):\n",
    "        birthdays.append(random.randint(1,365))\n",
    "    return birthdays\n",
    "\n",
    "make_birthdays(23)"
   ]
  },
  {
   "cell_type": "markdown",
   "metadata": {},
   "source": [
    "### Challenge: Exercise 10.10 (optional)\n",
    "\n",
    "You should read [Chapter 9.1](http://www.greenteapress.com/thinkpython2/html/thinkpython2010.html) and do Exercise 1 first.\n",
    "\n",
    "To check whether a word is in the word list, you could use the `in` operator, but it would be relatively slow because it searches through the words in order (try it).\n",
    "\n",
    "Because the words are in alphabetical order, we can speed things up with a bisection search (also known as binary search), which is similar to what you do when you look a word up in the dictionary. You start in the middle and check to see whether the word you are looking for comes before the word in the middle of the list. If so, then you search the first half of the list the same way. Otherwise you search the second half.\n",
    "\n",
    "Either way, you cut the remaining search space in half. If the word list has 113,809 words, it will take about 17 steps to find the word or conclude that it’s not there.\n",
    "\n",
    "Write a function called `bisect` that takes a sorted list and a target value and returns the index of the value in the list, if it’s there, or `None` if it’s not.\n",
    "\n",
    "Or you could read the documentation of the `bisect` module and use that! Solution: http://greenteapress.com/thinkpython2/code/inlist.py."
   ]
  },
  {
   "cell_type": "code",
   "execution_count": null,
   "metadata": {
    "collapsed": true
   },
   "outputs": [],
   "source": []
  },
  {
   "cell_type": "markdown",
   "metadata": {},
   "source": [
    "## Reading Journal feedback\n",
    "\n",
    "Have any comments on this Reading Journal? Feel free to leave them [here](https://goo.gl/forms/hZqCUAi4ir7hVN6x2) and we'll read them when you submit your journal entry. This could include suggestions to improve the exercises, topics you'd like to see covered in class next time, or other feedback.\n",
    "\n",
    "If you have Python questions or run into problems while completing the reading, you should post them to Piazza instead so you can get a quick response before your journal is submitted."
   ]
  }
 ],
 "metadata": {
  "kernelspec": {
   "display_name": "Python 3",
   "language": "python",
   "name": "python3"
  },
  "language_info": {
   "codemirror_mode": {
    "name": "ipython",
    "version": 3
   },
   "file_extension": ".py",
   "mimetype": "text/x-python",
   "name": "python",
   "nbconvert_exporter": "python",
   "pygments_lexer": "ipython3",
   "version": "3.5.2"
  }
 },
 "nbformat": 4,
 "nbformat_minor": 0
}
