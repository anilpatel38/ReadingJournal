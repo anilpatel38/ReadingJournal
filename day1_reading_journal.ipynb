{
 "cells": [
  {
   "cell_type": "markdown",
   "metadata": {},
   "source": [
    "# Day 1 Reading Journal\n",
    "\n",
    "Hi everyone.  These are the exercises for the first set of readings from ThinkPython.  While this journal consists of several required exercises, it is meant to encourage active reading more generally.  You should use this journal to take detailed notes, catalog questions, and explore the content from ThinkPython deeply.\n",
    "\n",
    "For more information on using the Jupyter notebook, check out the documentation [here](https://www.datacamp.com/community/tutorials/tutorial-jupyter-notebook##UseJupyter).\n",
    "\n",
    "Additionally, in order to write text in this document, you will be making use of Markdown cells. A handy cheatsheet for Markdown is available [here](https://github.com/adam-p/markdown-here/wiki/Markdown-Cheatsheet)."
   ]
  },
  {
   "cell_type": "markdown",
   "metadata": {},
   "source": [
    "## Notes\n",
    "\n",
    "types - strings, integers, floats\n",
    "  \n",
    "  numbers with decimals are floats. Can convert types\n",
    "  \n",
    "comment with #\n",
    "\n",
    "state diagrams - graphical representations of code\n",
    "\n",
    "To define a function\n",
    "\n",
    "  def \"function name\" :\n",
    "    don't forget the colon\n",
    "    \n",
    "import math for math functions\n",
    "\n",
    "input function = input(\"input prompt\")\n",
    "\n",
    "Variables defined in the function aren't global\n",
    "\n",
    "Modulus can be used to find remainders\n",
    "\n",
    "Floor and ceiling functions can be used wit the math module to round up and down.\n",
    "\n",
    "### Recursion\n",
    "\n",
    "Functions can call themself.\n",
    "\n",
    "You can pass a parameter in the argument that defines how many times the function is recursive for.\n",
    "\n",
    "Recursion can happen infinitely but is generally bad."
   ]
  },
  {
   "cell_type": "markdown",
   "metadata": {},
   "source": [
    "## Chapter 1\n",
    "\n",
    "Note: the exercise numbers below match up with the reading for ease of cross referencing."
   ]
  },
  {
   "cell_type": "markdown",
   "metadata": {},
   "source": [
    "### Exercise 1.4\n",
    "\n",
    "Start the Python interpreter and use it as a simple calculator. Python’s syntax for math operations is almost the same as standard mathematical notation. For example, the symbols +, - and / denote addition, subtraction and division, as you would expect. The symbol for multiplication is *\n",
    "\n",
    "* How many seconds are there in 42 minutes 42 seconds?\n",
    "* How many miles are there in 10 kilometers? Hint: there are 1.61 kilometers in a mile.\n",
    "* If you run a 10 kilometer race in 42 minutes 42 seconds, what is your average pace (time per mile in minutes and seconds)? What is your average speed in miles per hour?\n",
    "\n",
    "Please use the following markdown cell to provide your answers."
   ]
  },
  {
   "cell_type": "code",
   "execution_count": 1,
   "metadata": {
    "collapsed": false,
    "scrolled": true
   },
   "outputs": [
    {
     "data": {
      "text/plain": [
       "8.727653570337614"
      ]
     },
     "execution_count": 1,
     "metadata": {},
     "output_type": "execute_result"
    }
   ],
   "source": [
    "10/1.61/0.7116666666666667"
   ]
  },
  {
   "cell_type": "markdown",
   "metadata": {},
   "source": [
    "##### Question 1\n",
    "2562 seconds\n",
    "##### Question 2\n",
    "6.21 miles\n",
    "##### Question 3\n",
    "26 minutes 31 seconds pace\n",
    "\n",
    "8.73 mph\n",
    "\n",
    "\n"
   ]
  },
  {
   "cell_type": "markdown",
   "metadata": {},
   "source": [
    "## Chapter 2"
   ]
  },
  {
   "cell_type": "markdown",
   "metadata": {},
   "source": [
    "### Exercise\n",
    "\n",
    "Assume that we execute the following assignment statements:\n",
    "\n",
    "```\n",
    "width = 17\n",
    "height = 12.0\n",
    "delimiter = '.'\n",
    "```\n",
    "\n",
    "For each of the following expressions, write the value of the expression and the type (of the value of the expression).\n",
    "\n",
    "Example: `width * 2` <br/>\n",
    "Answer: 34, integer\n",
    "\n",
    "1. `width/2`\n",
    "2. `width/2.0`\n",
    "3. `height/3`\n",
    "4. `1 + 2 * 5`\n",
    "5. `delimiter * 5`\n",
    "\n",
    "Please use the following markdown cell to provide your answer."
   ]
  },
  {
   "cell_type": "code",
   "execution_count": 2,
   "metadata": {
    "collapsed": false
   },
   "outputs": [
    {
     "data": {
      "text/plain": [
       "'.....'"
      ]
     },
     "execution_count": 2,
     "metadata": {},
     "output_type": "execute_result"
    }
   ],
   "source": [
    "width = 17\n",
    "height = 12.0\n",
    "delimiter = '.'\n",
    "\n",
    "delimiter*5\n"
   ]
  },
  {
   "cell_type": "markdown",
   "metadata": {},
   "source": [
    "##### Question 1\n",
    "width/2\n",
    "\n",
    "8.5, float\n",
    "\n",
    "##### Question 2\n",
    "width/2.0\n",
    "\n",
    "8.5, float\n",
    "\n",
    "##### Question 3\n",
    "height/3\n",
    "\n",
    "4.0, float\n",
    "\n",
    "##### Question 4\n",
    "1+2*5\n",
    "\n",
    "11, integer\n",
    "\n",
    "##### Question 5\n",
    "delimiter*5\n",
    "\n",
    "'.....' , string"
   ]
  },
  {
   "cell_type": "markdown",
   "metadata": {},
   "source": [
    "### Exercise 2.2\n",
    "\n",
    "Practice using the Python interpreter as a calculator.  For each of these provide Python code that computes each answer."
   ]
  },
  {
   "cell_type": "markdown",
   "metadata": {},
   "source": [
    "The volume of a sphere with radius r is $4/3 \\pi  r^3$. What is the volume of a sphere with radius 5? <br />\n",
    "Hint: 392.7 is wrong! You can approximate pi with 3.14 or import it through the Python math library."
   ]
  },
  {
   "cell_type": "code",
   "execution_count": 7,
   "metadata": {
    "collapsed": false
   },
   "outputs": [
    {
     "name": "stdout",
     "output_type": "stream",
     "text": [
      "25.12\n"
     ]
    }
   ],
   "source": [
    "value = (4/3) * 3.14 * (5^3)\n",
    "value = round(value, 2)\n",
    "print(value)"
   ]
  },
  {
   "cell_type": "markdown",
   "metadata": {},
   "source": [
    "Suppose the cover price of a book is \\$24.95, but bookstores get a 40% discount. Shipping costs \\$3 for the first copy and 75 cents for each additional copy. What is the total wholesale cost for 60 copies?"
   ]
  },
  {
   "cell_type": "code",
   "execution_count": 25,
   "metadata": {
    "collapsed": false
   },
   "outputs": [
    {
     "name": "stdout",
     "output_type": "stream",
     "text": [
      "945.45\n"
     ]
    }
   ],
   "source": [
    "Price = 24.95\n",
    "Discounted = 24.95*.60\n",
    "Books = 60\n",
    "BCost = Discounted*Books\n",
    "\n",
    "Shipping = 3 + (Books-1)*.75\n",
    "TotalCost = BCost + Shipping\n",
    "\n",
    "print(round(TotalCost,2))"
   ]
  },
  {
   "cell_type": "markdown",
   "metadata": {},
   "source": [
    "If I leave my house at 6:52 am and run 1 mile at an easy pace (8:15 per mile), then 3 miles at tempo (7:12 per mile) and 1 mile at easy pace again, what time do I get home for breakfast? "
   ]
  },
  {
   "cell_type": "code",
   "execution_count": 4,
   "metadata": {
    "collapsed": false
   },
   "outputs": [
    {
     "name": "stdout",
     "output_type": "stream",
     "text": [
      "7:30 am\n"
     ]
    }
   ],
   "source": [
    "HoursNow = 6\n",
    "MinutesNow = 52\n",
    "MinutesNow = HoursNow*60 + MinutesNow\n",
    "\n",
    "Pace1m = 8\n",
    "Pace1s = 15\n",
    "Pace1 = Pace1m + Pace1s/60\n",
    "\n",
    "Pace1distance = 2\n",
    "Pace1time = Pace1*Pace1distance\n",
    "\n",
    "Pace2m = 7\n",
    "Pace2s = 12\n",
    "Pace2 = Pace2m+Pace2s/60\n",
    "\n",
    "Pace2distance = 3\n",
    "Pace2time = Pace2*Pace2distance\n",
    "\n",
    "TotalM = MinutesNow+Pace1time+Pace2time\n",
    "Decimal = TotalM/60\n",
    "\n",
    "import math\n",
    "H = math.floor(Decimal)\n",
    "M = round((Decimal - H)*60)\n",
    "\n",
    "Hs = str(H)\n",
    "Ms = str(M)\n",
    "\n",
    "Time = Hs +\":\"+ Ms+\" am\"\n",
    "print(Time)"
   ]
  },
  {
   "cell_type": "markdown",
   "metadata": {},
   "source": []
  },
  {
   "cell_type": "markdown",
   "metadata": {},
   "source": [
    "## Chapter 3"
   ]
  },
  {
   "cell_type": "markdown",
   "metadata": {},
   "source": [
    "### Exercise 3.1\n",
    "\n",
    "Write a function named `right_justify` that takes a string named s as a parameter and prints the string with enough leading spaces so that the last letter of the string is in column 70 of the display.\n",
    "\n",
    "```\n",
    ">>> right_justify('monty')\n",
    "                                                                 monty\n",
    "```\n",
    "Hint: Use string concatenation and repetition. Also, Python provides a built-in function called `len` that returns the length of a string, so the value of `len('monty')` is 5."
   ]
  },
  {
   "cell_type": "code",
   "execution_count": 17,
   "metadata": {
    "collapsed": false
   },
   "outputs": [
    {
     "name": "stdout",
     "output_type": "stream",
     "text": [
      "                                                     I think it worked\n",
      "                                                          double check\n"
     ]
    }
   ],
   "source": [
    "def right_justify(s):\n",
    "    length = len(s)\n",
    "    space = \" \"\n",
    "    spaces = 70 - length\n",
    "    \n",
    "    indent = spaces*space\n",
    "    justify = indent + s\n",
    "    \n",
    "    print(justify)\n",
    "\n",
    "right_justify('I think it worked')\n",
    "right_justify('double check')"
   ]
  },
  {
   "cell_type": "markdown",
   "metadata": {},
   "source": [
    "### Exercise 3.3\n",
    "\n",
    "Note: This exercise should be done using only the statements and other features we have learned so far.\n",
    "\n",
    "1\\. Write a function that draws a grid like the following:\n",
    "\n",
    "```\n",
    "+ - - - - + - - - - +\n",
    "|         |         |\n",
    "|         |         |\n",
    "|         |         |\n",
    "|         |         |\n",
    "+ - - - - + - - - - +\n",
    "|         |         |\n",
    "|         |         |\n",
    "|         |         |\n",
    "|         |         |\n",
    "+ - - - - + - - - - +\n",
    "```\n",
    "Note: There are four empty spaces between the vertical bars.\n",
    "\n",
    "To print more than one value on a line, you can print a comma-separated sequence of values:\n",
    "\n",
    "```\n",
    "print('+', '-')\n",
    "```\n",
    "\n",
    "By default, `print` advances to the next line, but you can override that behavior and put a space at the end, like this:\n",
    "\n",
    "```\n",
    "print('+', end=' ')\n",
    "print('-')\n",
    "```\n",
    "\n",
    "The output of these statements is '+ -'.\n",
    "\n",
    "A `print` statement with no argument ends the current line and goes to the next line."
   ]
  },
  {
   "cell_type": "code",
   "execution_count": 13,
   "metadata": {
    "collapsed": false
   },
   "outputs": [
    {
     "name": "stdout",
     "output_type": "stream",
     "text": [
      "+ - - - - + - - - - + - - - - + - - - - +\n",
      "|         |         |         |         |\n",
      "|         |         |         |         |\n",
      "|         |         |         |         |\n",
      "|         |         |         |         |\n",
      "+ - - - - + - - - - + - - - - + - - - - +\n",
      "|         |         |         |         |\n",
      "|         |         |         |         |\n",
      "|         |         |         |         |\n",
      "|         |         |         |         |\n",
      "+ - - - - + - - - - + - - - - + - - - - +\n",
      "|         |         |         |         |\n",
      "|         |         |         |         |\n",
      "|         |         |         |         |\n",
      "|         |         |         |         |\n",
      "+ - - - - + - - - - + - - - - + - - - - +\n",
      "|         |         |         |         |\n",
      "|         |         |         |         |\n",
      "|         |         |         |         |\n",
      "|         |         |         |         |\n",
      "+ - - - - + - - - - + - - - - + - - - - +\n"
     ]
    }
   ],
   "source": [
    "def grid():\n",
    "    plusline = \"+ - - - - + - - - - + - - - - + - - - - +\"\n",
    "    spacelin = \"|         |         |         |         |\"\n",
    "    \n",
    "    \n",
    "    print(plusline)\n",
    "    print(spacelin)\n",
    "    print(spacelin)\n",
    "    print(spacelin)\n",
    "    print(spacelin)\n",
    "    print(plusline)\n",
    "    print(spacelin)\n",
    "    print(spacelin)\n",
    "    print(spacelin)\n",
    "    print(spacelin)\n",
    "    print(plusline)\n",
    "    print(spacelin)\n",
    "    print(spacelin)\n",
    "    print(spacelin)\n",
    "    print(spacelin)\n",
    "    print(plusline)\n",
    "    print(spacelin)\n",
    "    print(spacelin)\n",
    "    print(spacelin)\n",
    "    print(spacelin)\n",
    "    print(plusline)\n",
    "    \n",
    "grid()"
   ]
  },
  {
   "cell_type": "markdown",
   "metadata": {},
   "source": [
    "2\\. Write a function that draws a similar grid with four rows and four columns."
   ]
  },
  {
   "cell_type": "code",
   "execution_count": null,
   "metadata": {
    "collapsed": true
   },
   "outputs": [],
   "source": []
  },
  {
   "cell_type": "markdown",
   "metadata": {},
   "source": [
    "## Chapter 5.1 - 5.7"
   ]
  },
  {
   "cell_type": "markdown",
   "metadata": {},
   "source": [
    "### Exercise 5.2\n",
    "\n",
    "Fermat’s Last Theorem says that there are no positive integers $a$, $b$, and $c$ such that $$a^n + b^n = c^n$$ for any values of $n$ greater than 2.\n",
    "\n",
    "1\\. Write a function named `check_fermat` that takes four parameters – $a$, $b$, $c$ and $n$ – and that checks to see if Fermat’s theorem holds. If n is greater than 2 and it turns out to be true that\n",
    "$a^n + b^n = c^n$, then the program should print: \"Holy smokes, Fermat was wrong!\" Otherwise the program should print: \"No, that doesn’t work.\""
   ]
  },
  {
   "cell_type": "code",
   "execution_count": null,
   "metadata": {
    "collapsed": false
   },
   "outputs": [],
   "source": [
    "def check_fermat(a,b,c,n):\n",
    "    if a^n + b^n == c^n:\n",
    "        print(\"Holy smokes, Fermat was wrong!\")\n",
    "    else:\n",
    "        print(\"No, that doesn't work\")\n",
    "        \n",
    "check_fermat(2,4,10,2)"
   ]
  },
  {
   "cell_type": "markdown",
   "metadata": {},
   "source": [
    "2\\. Write a function that prompts the user to input values for $a$, $b$, $c$ and $n$, converts them to integers, and uses `check_fermat` to check whether they violate Fermat’s theorem."
   ]
  },
  {
   "cell_type": "code",
   "execution_count": 3,
   "metadata": {
    "collapsed": false
   },
   "outputs": [
    {
     "name": "stdout",
     "output_type": "stream",
     "text": [
      "a3\n",
      "b2\n",
      "c6\n",
      "n4\n",
      "No, that doesn't work\n"
     ]
    }
   ],
   "source": [
    "def interactive_fermat():\n",
    "    a = int(input(\"a\"))\n",
    "    b = int(input(\"b\"))\n",
    "    c = int(input(\"c\"))\n",
    "    n = int(input(\"n\"))\n",
    "    \n",
    "    if a^n + b^n == c^n:\n",
    "        print(\"Holy smokes, Fermat was wrong!\")\n",
    "    else:\n",
    "        print(\"No, that doesn't work\")\n",
    "\n",
    "\n",
    "interactive_fermat()"
   ]
  },
  {
   "cell_type": "markdown",
   "metadata": {},
   "source": [
    "### Exercise 5.3 \n",
    "\n",
    "If you are given three sticks, you may or may not be able to arrange them in a triangle. For example, if one of the sticks is 12 inches long and the other two are one inch long, it is clear that you will not be able to get the short sticks to meet in the middle. For any three lengths, there is a simple test to see if it is possible to form a triangle:\n",
    "> If any of the three lengths is greater than the sum of the other two, then you cannot form a triangle. Otherwise, you can. (If the sum of two lengths equals the third, they form what is called a “degenerate” triangle.)\n",
    "\n",
    "1\\. Write a function named `is_triangle` that takes three integers as arguments, and that prints either \"Yes\" or \"No,\" depending on whether you can or cannot form a triangle from sticks with the given lengths."
   ]
  },
  {
   "cell_type": "code",
   "execution_count": 12,
   "metadata": {
    "collapsed": false
   },
   "outputs": [
    {
     "name": "stdout",
     "output_type": "stream",
     "text": [
      "no\n"
     ]
    }
   ],
   "source": [
    "def is_triangle(stick1,stick2,stick3):\n",
    "      \n",
    "    if stick1 + stick2 < stick3:\n",
    "        print(\"no\")\n",
    "    elif stick2+stick3 < stick1:\n",
    "        print(\"no\")\n",
    "    elif stick3+stick1 < stick2:\n",
    "        print(\"no\")\n",
    "    else: \n",
    "        print(\"yes\")\n",
    "        \n",
    "is_triangle(23,3,5)\n",
    "    "
   ]
  },
  {
   "cell_type": "markdown",
   "metadata": {},
   "source": [
    "2\\. Write a function that prompts the user to input three stick lengths, converts them to integers, and uses `is_triangle` to check whether sticks with the given lengths can form a triangle."
   ]
  },
  {
   "cell_type": "code",
   "execution_count": null,
   "metadata": {
    "collapsed": true
   },
   "outputs": [],
   "source": [
    "def is_triangle():\n",
    "    \n",
    "    stick1 = int(input(\"stick 1 length\"))\n",
    "    stick2 = int(input(\"stick 2 length\"))\n",
    "    stick3 = int(input(\"stick 3 length\"))\n",
    "    \n",
    "    if stick1 + stick2 < stick3:\n",
    "        print(\"no\")\n",
    "    elif stick2+stick3 < stick1:\n",
    "        print(\"no\")\n",
    "    elif stick3+stick1 < stick2:\n",
    "        print(\"no\")\n",
    "    else: \n",
    "        print(\"yes\")\n",
    "        \n",
    "is_triangle()"
   ]
  },
  {
   "cell_type": "markdown",
   "metadata": {},
   "source": [
    "## Quick poll\n",
    "About how long did you spend working on this Reading Journal?"
   ]
  },
  {
   "cell_type": "markdown",
   "metadata": {},
   "source": [
    "About 2 hours"
   ]
  },
  {
   "cell_type": "markdown",
   "metadata": {},
   "source": [
    "## Notes for the Instructors\n",
    "\n",
    "Please use the space below to write comments to help us plan the next class session.  For instance, if you want to see us go over an example of a particular type of problem, you can indicate that here.\n",
    "\n",
    "Please remember that the best way to get quick feedback from the instructors as well as your peers, is to use Piazza.  However, consider using this channel if it doesn't make sense to post your note to Piazza."
   ]
  },
  {
   "cell_type": "markdown",
   "metadata": {},
   "source": []
  }
 ],
 "metadata": {
  "kernelspec": {
   "display_name": "Python 3",
   "language": "python",
   "name": "python3"
  },
  "language_info": {
   "codemirror_mode": {
    "name": "ipython",
    "version": 3
   },
   "file_extension": ".py",
   "mimetype": "text/x-python",
   "name": "python",
   "nbconvert_exporter": "python",
   "pygments_lexer": "ipython3",
   "version": "3.5.2"
  }
 },
 "nbformat": 4,
 "nbformat_minor": 0
}
