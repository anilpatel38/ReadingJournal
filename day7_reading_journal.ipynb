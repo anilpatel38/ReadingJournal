{
 "cells": [
  {
   "cell_type": "markdown",
   "metadata": {},
   "source": [
    "# Day 7 Reading Journal\n",
    "\n",
    "This journal includes several required exercises, but it is meant to encourage active reading more generally.  You should use the journal to take detailed notes, catalog questions, and explore the content from Think Python deeply.\n",
    "\n",
    "Reading: Think Python Chapter 11, 12\n",
    "\n",
    "**Due: Monday, February 13 at 12 noon**\n",
    "\n"
   ]
  },
  {
   "cell_type": "markdown",
   "metadata": {},
   "source": [
    "## [Chapter 11](http://www.greenteapress.com/thinkpython/html/thinkpython012.html)\n"
   ]
  },
  {
   "cell_type": "markdown",
   "metadata": {},
   "source": [
    "**Quick check:** In about one sentence using your own words, what is a dictionary?"
   ]
  },
  {
   "cell_type": "markdown",
   "metadata": {},
   "source": [
    "A dictionary is a a group of values, each which maps to an index (that doesn't have to be a number) "
   ]
  },
  {
   "cell_type": "markdown",
   "metadata": {},
   "source": [
    " "
   ]
  },
  {
   "cell_type": "markdown",
   "metadata": {
    "is_question": true,
    "problem": "Exercise 11.2"
   },
   "source": [
    "### Exercise 11.2  \n",
    "\n",
    "Dictionaries have a method called [`get`](https://docs.python.org/3/library/stdtypes.html#mapping-types-dict) that takes a key and a default value. If the key appears in the dictionary, `get` returns the corresponding value; otherwise it returns the default value. For example:\n",
    "\n",
    "```\n",
    ">>> h = histogram('a')\n",
    ">>> print h\n",
    "{'a': 1}\n",
    ">>> h.get('a', 0)\n",
    "1\n",
    ">>> h.get('b', 0)\n",
    "0\n",
    "```\n",
    "\n",
    "Use `get` to write `histogram` more concisely. You should be able to eliminate the `if` statement. Add unit tests for your histogram implementation."
   ]
  },
  {
   "cell_type": "code",
   "execution_count": 8,
   "metadata": {
    "collapsed": false,
    "solution": "Exercise 11.2"
   },
   "outputs": [
    {
     "data": {
      "text/plain": [
       "{'d': 4, 'e': 1, 'r': 1}"
      ]
     },
     "execution_count": 8,
     "metadata": {},
     "output_type": "execute_result"
    }
   ],
   "source": [
    "def histogram(s):\n",
    "    d = dict()\n",
    "    for c in s:\n",
    "        if c not in d:\n",
    "            d[c] = 1\n",
    "        else:\n",
    "            d[c] += 1\n",
    "    return d\n",
    "\n",
    "\n",
    "def better_histogram(s):\n",
    "    d = dict()\n",
    "    for c in s:\n",
    "        d[c] = d.get(c,0)+1\n",
    "    return d\n",
    "\n",
    "better_histogram(\"redddd\")  "
   ]
  },
  {
   "cell_type": "markdown",
   "metadata": {},
   "source": [
    " "
   ]
  },
  {
   "cell_type": "markdown",
   "metadata": {
    "is_question": true,
    "problem": "Exercise 11.4"
   },
   "source": [
    "### Exercise 11.4  \n",
    "\n",
    "Modify `reverse_lookup` so that it builds and returns a list of all keys that map to `v`, or an empty list if there are none. Add unit tests for your implementation."
   ]
  },
  {
   "cell_type": "code",
   "execution_count": 25,
   "metadata": {
    "collapsed": false,
    "solution": "Exercise 11.4"
   },
   "outputs": [
    {
     "name": "stdout",
     "output_type": "stream",
     "text": [
      "{'a': 2, 't': 3, 'o': 1, 'r': 2, 'p': 1}\n"
     ]
    },
    {
     "data": {
      "text/plain": [
       "['a', 'r']"
      ]
     },
     "execution_count": 25,
     "metadata": {},
     "output_type": "execute_result"
    }
   ],
   "source": [
    "def reverse_lookup(d, v):\n",
    "    for k in d:\n",
    "        if d[k] == v:\n",
    "            return k\n",
    "    raise ValueError\n",
    "    \n",
    "\n",
    "def better_histogram(s):\n",
    "    d = dict()\n",
    "    for c in s:\n",
    "        d[c] = d.get(c,0)+1\n",
    "    return d\n",
    "    \n",
    "    \n",
    "def reverse_lookup_v2(d, v):\n",
    "    keys = []\n",
    "    for k in d:\n",
    "        if d[k] == v:\n",
    "            keys.append(k)\n",
    "    return keys\n",
    "\n",
    "word = \"parrattot\"\n",
    "h = better_histogram(word)\n",
    "print(h)\n",
    "reverse_lookup_v2(h, 2)"
   ]
  },
  {
   "cell_type": "markdown",
   "metadata": {},
   "source": [
    "If you'd like to learn more about errors and exceptions, you can check out the [Python tutorial](https://docs.python.org/3/tutorial/errors.html) or read ahead to [Appendix A](http://www.greenteapress.com/thinkpython2/html/thinkpython2021.html) of Think Python. If you choose to use doctest for your unit testing, it can also [deal with exceptions](https://docs.python.org/3/library/doctest.html#what-about-exceptions)."
   ]
  },
  {
   "cell_type": "markdown",
   "metadata": {},
   "source": [
    " "
   ]
  },
  {
   "cell_type": "markdown",
   "metadata": {},
   "source": [
    "**Quick check** What type of objects can be used as keys to a dictionary, i.e. what property must they have?"
   ]
  },
  {
   "cell_type": "markdown",
   "metadata": {},
   "source": [
    "Keys have to be immutable so that they can be hashed."
   ]
  },
  {
   "cell_type": "markdown",
   "metadata": {},
   "source": [
    " "
   ]
  },
  {
   "cell_type": "markdown",
   "metadata": {
    "is_question": true,
    "problem": "Exercise 11.6"
   },
   "source": [
    "### Exercise 11.6 (modified)\n",
    "\n",
    "Create a memoized version of your Levenshtein distance function from Day 7. What kind of performance change do you see?\n",
    "\n",
    "Optional: If you'd like to get some quantitative results, you could check out the [timeit](https://docs.python.org/3/library/timeit.html) module\n",
    "\n",
    "Note: You can also study Fibonacci here if you prefer."
   ]
  },
  {
   "cell_type": "markdown",
   "metadata": {},
   "source": [
    "# Notes\n",
    "\n",
    "###### A memo is a value storied in a dictionary that is referenced to or created as needed."
   ]
  },
  {
   "cell_type": "code",
   "execution_count": 19,
   "metadata": {
    "collapsed": false
   },
   "outputs": [
    {
     "data": {
      "text/plain": [
       "144"
      ]
     },
     "execution_count": 19,
     "metadata": {},
     "output_type": "execute_result"
    }
   ],
   "source": [
    "Fibonaccis = {0:0, 1:1}\n",
    "\n",
    "def fibonacci(n):\n",
    "    if n in Fibonaccis:\n",
    "        return Fibonaccis[n]\n",
    "\n",
    "    res = fibonacci(n-1) + fibonacci(n-2)\n",
    "    Fibonaccis[n] = res\n",
    "    return res\n",
    "\n",
    "fibonacci(12)\n",
    "\n"
   ]
  },
  {
   "cell_type": "markdown",
   "metadata": {},
   "source": [
    "## [Chapter 12](http://www.greenteapress.com/thinkpython2/html/thinkpython2013.html)\n",
    "\n",
    "**Quick check:** In about one sentence using your own words, what is a tuple?"
   ]
  },
  {
   "cell_type": "markdown",
   "metadata": {},
   "source": [
    "a series of values that can be any type but is immutable."
   ]
  },
  {
   "cell_type": "markdown",
   "metadata": {
    "is_question": true,
    "problem": "Exercise 12.1"
   },
   "source": [
    "### Chapter 12.4  \n",
    "\n",
    "Many of the built-in functions use variable-length argument tuples. For example, `max` and `min` can take any number of arguments:\n",
    "\n",
    "```\n",
    ">>> max(1,2,3)\n",
    "3\n",
    "```\n",
    "\n",
    "But `sum` does not.\n",
    "\n",
    "```\n",
    ">>> sum(1,2,3)\n",
    "TypeError: sum expected at most 2 arguments, got 3\n",
    "```\n",
    "\n",
    "Write a function called ```sumall``` that takes any number of arguments and returns their sum. \n",
    "\n",
    "Write unit tests for your function. Do I actually need to keep saying this? Let's assume it's always a good idea :)"
   ]
  },
  {
   "cell_type": "code",
   "execution_count": 20,
   "metadata": {
    "collapsed": false,
    "solution": "Exercise 12.1"
   },
   "outputs": [
    {
     "data": {
      "text/plain": [
       "3"
      ]
     },
     "execution_count": 20,
     "metadata": {},
     "output_type": "execute_result"
    }
   ],
   "source": [
    "def sumall(*numbers):\n",
    "    a = len(numbers)\n",
    "    return a\n",
    "\n",
    "sumall(3,4,2)"
   ]
  },
  {
   "cell_type": "code",
   "execution_count": 26,
   "metadata": {
    "collapsed": false
   },
   "outputs": [
    {
     "data": {
      "text/plain": [
       "16"
      ]
     },
     "execution_count": 26,
     "metadata": {},
     "output_type": "execute_result"
    }
   ],
   "source": [
    "def sumall(*numbers):\n",
    "    sum = 0\n",
    "    for i in range(0, len(numbers)):\n",
    "        sum = sum + numbers[i]\n",
    "    return sum\n",
    "\n",
    "sumall(3,4,5,4)"
   ]
  },
  {
   "cell_type": "markdown",
   "metadata": {},
   "source": [
    "If you're interested in more flexible ways to pass arguments to functions, check out the [Python tutorial](https://docs.python.org/3/tutorial/controlflow.html#more-on-defining-functions). For instance, you can also use keyword arguments, which are collected into a dictionary just like `*` gathers variable numbers of positional arguments into a tuple.\n",
    "\n",
    "This pattern is very common for defining functions with complex optional behaviors in Python, and you will often see definitions like:\n",
    "\n",
    "```\n",
    "def my_func(required_argument1, *arguments, **keywords):\n",
    "    ...\n",
    "```"
   ]
  },
  {
   "cell_type": "markdown",
   "metadata": {},
   "source": [
    " "
   ]
  },
  {
   "cell_type": "markdown",
   "metadata": {
    "is_question": true,
    "problem": "Exercise 12 sort"
   },
   "source": [
    "### Exercise\n",
    "\n",
    "Write a function `sort_by_last_letter` that takes a list of words and returns a new list with the words sorted alphabetically by the _last letter_ in the word. Hint: use the **Decorate, Sort, Undecorate** pattern. Write unit tests for your function."
   ]
  },
  {
   "cell_type": "markdown",
   "metadata": {},
   "source": [
    "# 3 Iterative Functions. Final function completes task."
   ]
  },
  {
   "cell_type": "code",
   "execution_count": 28,
   "metadata": {
    "collapsed": false,
    "solution": "Exercise 12 sort"
   },
   "outputs": [
    {
     "data": {
      "text/plain": [
       "['bye', 'caribou']"
      ]
     },
     "execution_count": 28,
     "metadata": {},
     "output_type": "execute_result"
    }
   ],
   "source": [
    "def sort_by_last_letter(*words):\n",
    "    #check to make sure len works with args\n",
    "    words = list(words)\n",
    "    return words\n",
    "\n",
    "sort_by_last_letter(\"bye\", \"caribou\")"
   ]
  },
  {
   "cell_type": "code",
   "execution_count": 36,
   "metadata": {
    "collapsed": false
   },
   "outputs": [
    {
     "data": {
      "text/plain": [
       "['ebye', 'ucaribou']"
      ]
     },
     "execution_count": 36,
     "metadata": {},
     "output_type": "execute_result"
    }
   ],
   "source": [
    "def sort_by_last_letter(*words):\n",
    "    #add the last letter to the front of each word and sort\n",
    "    words = list(words)\n",
    "    temp_words = []\n",
    "    for i in words:\n",
    "        temp_words.append(i[-1]+i)\n",
    "    temp_words.sort\n",
    "        \n",
    "    return temp_words\n",
    "\n",
    "sort_by_last_letter(\"bye\", \"caribou\")"
   ]
  },
  {
   "cell_type": "code",
   "execution_count": 53,
   "metadata": {
    "collapsed": false
   },
   "outputs": [
    {
     "data": {
      "text/plain": [
       "['pizza', 'anagram']"
      ]
     },
     "execution_count": 53,
     "metadata": {},
     "output_type": "execute_result"
    }
   ],
   "source": [
    "def sort_by_last_letter(*words):\n",
    "    #after sorting, remove last decoration letter\n",
    "    words = list(words)\n",
    "    temp_words = []\n",
    "    final_words = []\n",
    "    for i in words:\n",
    "        temp_words.append(i[-1]+i)\n",
    "    temp_words.sort()\n",
    "    for i in temp_words:\n",
    "        final_words.append(i[1:])\n",
    "        \n",
    "    return final_words\n",
    "\n",
    "sort_by_last_letter(\"pizza\", \"anagram\")"
   ]
  },
  {
   "cell_type": "markdown",
   "metadata": {},
   "source": [
    " "
   ]
  },
  {
   "cell_type": "markdown",
   "metadata": {},
   "source": [
    "**Quick check** Give an example of when you might use each sequence type:\n",
    "\n",
    "- tuple\n",
    "\n",
    "- list\n",
    "\n",
    "- string"
   ]
  },
  {
   "cell_type": "markdown",
   "metadata": {},
   "source": [
    "tuple - can be used to switch values for variables easily.\n",
    "\n",
    "list - can be used when you want to reassign values in the list.\n",
    "\n",
    "string - can be used for dictionaries because they are immutable. "
   ]
  },
  {
   "cell_type": "markdown",
   "metadata": {},
   "source": [
    " "
   ]
  },
  {
   "cell_type": "markdown",
   "metadata": {
    "is_question": true,
    "problem": "Exercise 12.3"
   },
   "source": [
    "### Exercise 12.1 \n",
    "\n",
    "Write a function called `most_frequent` that takes a string and prints the letters in decreasing order of frequency. Find text samples from several different languages and see how letter frequency varies between languages. Compare your results with the tables at http://en.wikipedia.org/wiki/Letter_frequencies. \n",
    "\n",
    "Allen's solution (try it on your own first): http://greenteapress.com/thinkpython2/code/most_frequent.py. "
   ]
  },
  {
   "cell_type": "code",
   "execution_count": 105,
   "metadata": {
    "collapsed": false,
    "solution": "Exercise 12.3"
   },
   "outputs": [
    {
     "data": {
      "text/plain": [
       "['i']"
      ]
     },
     "execution_count": 105,
     "metadata": {},
     "output_type": "execute_result"
    }
   ],
   "source": [
    "#use the already created histogram and reverse lookup functions to fulfill the function requirements.\n",
    "\n",
    "def better_histogram(s):\n",
    "    d = dict()\n",
    "    for c in s:\n",
    "        d[c] = d.get(c,0)+1\n",
    "    return d\n",
    "\n",
    "def reverse_lookup_v2(d, v):\n",
    "    keys = []\n",
    "    for k in d:\n",
    "        if d[k] == v:\n",
    "            keys.append(k)\n",
    "    return keys\n",
    "\n",
    "\n",
    "def most_frequent(s):\n",
    "    hist = better_histogram(s)\n",
    "    sort_hist = sorted(hist.values())\n",
    "    index = sort_hist[-4]\n",
    "    return reverse_lookup_v2(hist, index)\n",
    " \n",
    "    \n",
    "\n",
    "most_frequent(\"Alle Menschen sind frei und gleich an Würde und Rechten geboren. Sie sind mit Vernunft und Gewissen begabt und sollen einander im Geist der Brüderlichkeit begegnen.\")\n"
   ]
  },
  {
   "cell_type": "markdown",
   "metadata": {},
   "source": [
    " # For Swedish, the top 3 letters in the string I input were a, r, and , respectively. According to wikipedia, the most frequent letters are e, a, n, and r, respectively.\n",
    " \n",
    "# For German, the top 3 letters in the string I input were e, n, and i, respectively. According to wikipedia, the most frequent letters are e, n, and s, respectively."
   ]
  },
  {
   "cell_type": "markdown",
   "metadata": {
    "is_question": true,
    "problem": "Exercise 12.6"
   },
   "source": [
    "### Challenge: Exercise 12.4   (optional)\n",
    "\n",
    "From a [Car Talk Puzzler](http://www.cartalk.com/content/puzzlers):\n",
    "\n",
    "What is the longest English word, that remains a valid English word, as you remove its letters one at a time?\n",
    "\n",
    "Now, letters can be removed from either end, or the middle, but you can’t rearrange any of the letters. Every time you drop a letter, you wind up with another English word. If you do that, you’re eventually going to wind up with one letter and that too is going to be an English word—one that’s found in the dictionary. I want to know what’s the longest word and how many letters does it have?\n",
    "\n",
    "I’m going to give you a little modest example: Sprite. Ok? You start off with sprite, you take a letter off, one from the interior of the word, take the r away, and we’re left with the word spite, then we take the e off the end, we’re left with spit, we take the s off, we’re left with pit, it, and I. \n",
    "\n",
    "Write a program to find all words that can be reduced in this way, and then find the longest one.\n",
    "\n",
    "This exercise is a little more challenging than most, so here are some suggestions:\n",
    "\n",
    "- You might want to write a function that takes a word and computes a list of all the words that can be formed by removing one letter. These are the “children” of the word.\n",
    "- Recursively, a word is reducible if any of its children are reducible. As a base case, you can consider the empty string reducible.\n",
    "- The word list from [Chapter 9.1](http://www.greenteapress.com/thinkpython2/html/thinkpython2010.html) Exercise 1 doesn’t contain single letter words. So you might want to add “I”, “a”, and the empty string.\n",
    "- To improve the performance of your program, you might want to memoize the words that are known to be reducible.\n",
    "\n",
    "Allen's solution: http://greenteapress.com/thinkpython2/code/reducible.py."
   ]
  },
  {
   "cell_type": "code",
   "execution_count": null,
   "metadata": {
    "collapsed": true,
    "solution": "Exercise 12.6"
   },
   "outputs": [],
   "source": []
  },
  {
   "cell_type": "markdown",
   "metadata": {},
   "source": [
    " "
   ]
  },
  {
   "cell_type": "markdown",
   "metadata": {
    "is_question": true,
    "problem": "Feedback"
   },
   "source": [
    "## Reading Journal feedback\n",
    "\n",
    "[Please complete this short survey](https://docs.google.com/forms/d/e/1FAIpQLScQekhUrf6YYjpfQiAAbavLIA-IJklv_PX1BWbGgxj7JPolmw/viewform?c=0&w=1)\n",
    "\n",
    "If you have any comments on this Reading Journal, feel free to leave them in the survey linked above. This could include suggestions to improve the exercises, topics you'd like to see covered in class next time, or other feedback.\n",
    "\n",
    "If you have Python questions or run into problems while completing the reading, you should post them to Piazza instead so you can get a quick response before your journal is submitted."
   ]
  },
  {
   "cell_type": "markdown",
   "metadata": {
    "feedback_response": true,
    "solution": "Feedback"
   },
   "source": [
    " "
   ]
  }
 ],
 "metadata": {
  "kernelspec": {
   "display_name": "Python 3",
   "language": "python",
   "name": "python3"
  },
  "language_info": {
   "codemirror_mode": {
    "name": "ipython",
    "version": 3
   },
   "file_extension": ".py",
   "mimetype": "text/x-python",
   "name": "python",
   "nbconvert_exporter": "python",
   "pygments_lexer": "ipython3",
   "version": "3.5.2"
  }
 },
 "nbformat": 4,
 "nbformat_minor": 0
}
